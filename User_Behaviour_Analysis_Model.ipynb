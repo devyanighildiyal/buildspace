{
  "nbformat": 4,
  "nbformat_minor": 0,
  "metadata": {
    "colab": {
      "provenance": [],
      "authorship_tag": "ABX9TyM0m0CEQ5ipjVoi0PC8da4K",
      "include_colab_link": true
    },
    "kernelspec": {
      "name": "python3",
      "display_name": "Python 3"
    },
    "language_info": {
      "name": "python"
    }
  },
  "cells": [
    {
      "cell_type": "markdown",
      "metadata": {
        "id": "view-in-github",
        "colab_type": "text"
      },
      "source": [
        "<a href=\"https://colab.research.google.com/github/devyanighildiyal/buildspace/blob/main/User_Behaviour_Analysis_Model.ipynb\" target=\"_parent\"><img src=\"https://colab.research.google.com/assets/colab-badge.svg\" alt=\"Open In Colab\"/></a>"
      ]
    },
    {
      "cell_type": "code",
      "source": [
        "import pandas as pd\n",
        "import numpy as np\n",
        "\n",
        "n_sessions = 10000\n",
        "fraud_ratio = 0.05\n",
        "\n",
        "np.random.seed(42)\n",
        "\n",
        "session_ids = np.arange(1, n_sessions + 1)\n",
        "user_ids = np.random.randint(1, 1000, n_sessions)\n",
        "click_intervals = np.random.exponential(scale=2, size=n_sessions)\n",
        "mouse_speeds = np.random.normal(loc=1, scale=0.5, size=n_sessions)\n",
        "pages_visited = np.random.poisson(lam=5, size=n_sessions)\n",
        "form_interactions = np.random.poisson(lam=3, size=n_sessions)\n",
        "session_durations = np.random.exponential(scale=300, size=n_sessions)\n",
        "is_fraud = np.random.binomial(1, fraud_ratio, n_sessions)\n",
        "\n",
        "data = pd.DataFrame({\n",
        "    'session_id': session_ids,\n",
        "    'user_id': user_ids,\n",
        "    'click_interval': click_intervals,\n",
        "    'mouse_speed': mouse_speeds,\n",
        "    'pages_visited': pages_visited,\n",
        "    'form_interactions': form_interactions,\n",
        "    'session_duration': session_durations,\n",
        "    'is_fraud': is_fraud\n",
        "})\n",
        "\n",
        "data.to_csv('synthetic_user_behavior.csv', index=False)\n",
        "\n",
        "print(\"Synthetic dataset created and saved to 'synthetic_user_behavior.csv'\")\n"
      ],
      "metadata": {
        "colab": {
          "base_uri": "https://localhost:8080/"
        },
        "id": "Sz8oxhf1ZAqW",
        "outputId": "8cd2dff1-9ff0-4550-81db-91073ae983cc"
      },
      "execution_count": 1,
      "outputs": [
        {
          "output_type": "stream",
          "name": "stdout",
          "text": [
            "Synthetic dataset created and saved to 'synthetic_user_behavior.csv'\n"
          ]
        }
      ]
    },
    {
      "cell_type": "code",
      "source": [
        "import pandas as pd\n",
        "import numpy as np\n",
        "from sklearn.ensemble import IsolationForest\n",
        "from sklearn.metrics import classification_report, confusion_matrix\n",
        "from sklearn.model_selection import train_test_split\n",
        "import joblib"
      ],
      "metadata": {
        "id": "sSGuXwK4cKx1"
      },
      "execution_count": 2,
      "outputs": []
    },
    {
      "cell_type": "code",
      "source": [
        "data = pd.read_csv('synthetic_user_behavior.csv')"
      ],
      "metadata": {
        "id": "N5VrQc6HcK64"
      },
      "execution_count": 3,
      "outputs": []
    },
    {
      "cell_type": "code",
      "source": [
        "print(data.head())"
      ],
      "metadata": {
        "colab": {
          "base_uri": "https://localhost:8080/"
        },
        "id": "_Crqfq7KcLBD",
        "outputId": "b0627dc7-c56d-42db-bb40-4fe2b851befb"
      },
      "execution_count": 4,
      "outputs": [
        {
          "output_type": "stream",
          "name": "stdout",
          "text": [
            "   session_id  user_id  click_interval  mouse_speed  pages_visited  \\\n",
            "0           1      103        0.372079     0.828577              5   \n",
            "1           2      436        0.201057     0.394206             11   \n",
            "2           3      861        1.086478     0.926267              6   \n",
            "3           4      271        0.240496     0.514372              4   \n",
            "4           5      107        0.377273     0.394617              4   \n",
            "\n",
            "   form_interactions  session_duration  is_fraud  \n",
            "0                  7        502.664894         0  \n",
            "1                  2        633.662077         0  \n",
            "2                  1        927.819519         0  \n",
            "3                  1        290.725112         0  \n",
            "4                  3         18.933742         0  \n"
          ]
        }
      ]
    },
    {
      "cell_type": "code",
      "source": [
        "features = ['click_interval', 'mouse_speed', 'pages_visited', 'form_interactions', 'session_duration']\n",
        "X = data[features]\n",
        "y = data['is_fraud']"
      ],
      "metadata": {
        "id": "jH6OOMtsfuR-"
      },
      "execution_count": 5,
      "outputs": []
    },
    {
      "cell_type": "code",
      "source": [
        "X_train, X_test, y_train, y_test = train_test_split(X, y, test_size=0.2, random_state=42)"
      ],
      "metadata": {
        "id": "NvC5wqfafz70"
      },
      "execution_count": 6,
      "outputs": []
    },
    {
      "cell_type": "code",
      "source": [
        "model = IsolationForest(contamination=0.05, random_state=42)\n",
        "model.fit(X_train)"
      ],
      "metadata": {
        "colab": {
          "base_uri": "https://localhost:8080/",
          "height": 129
        },
        "id": "39qQFfDhf0B6",
        "outputId": "b04c132c-3cff-4855-e7a1-b39990b12544"
      },
      "execution_count": 7,
      "outputs": [
        {
          "output_type": "stream",
          "name": "stderr",
          "text": [
            "/usr/local/lib/python3.10/dist-packages/sklearn/base.py:439: UserWarning: X does not have valid feature names, but IsolationForest was fitted with feature names\n",
            "  warnings.warn(\n"
          ]
        },
        {
          "output_type": "execute_result",
          "data": {
            "text/plain": [
              "IsolationForest(contamination=0.05, random_state=42)"
            ],
            "text/html": [
              "<style>#sk-container-id-1 {color: black;background-color: white;}#sk-container-id-1 pre{padding: 0;}#sk-container-id-1 div.sk-toggleable {background-color: white;}#sk-container-id-1 label.sk-toggleable__label {cursor: pointer;display: block;width: 100%;margin-bottom: 0;padding: 0.3em;box-sizing: border-box;text-align: center;}#sk-container-id-1 label.sk-toggleable__label-arrow:before {content: \"▸\";float: left;margin-right: 0.25em;color: #696969;}#sk-container-id-1 label.sk-toggleable__label-arrow:hover:before {color: black;}#sk-container-id-1 div.sk-estimator:hover label.sk-toggleable__label-arrow:before {color: black;}#sk-container-id-1 div.sk-toggleable__content {max-height: 0;max-width: 0;overflow: hidden;text-align: left;background-color: #f0f8ff;}#sk-container-id-1 div.sk-toggleable__content pre {margin: 0.2em;color: black;border-radius: 0.25em;background-color: #f0f8ff;}#sk-container-id-1 input.sk-toggleable__control:checked~div.sk-toggleable__content {max-height: 200px;max-width: 100%;overflow: auto;}#sk-container-id-1 input.sk-toggleable__control:checked~label.sk-toggleable__label-arrow:before {content: \"▾\";}#sk-container-id-1 div.sk-estimator input.sk-toggleable__control:checked~label.sk-toggleable__label {background-color: #d4ebff;}#sk-container-id-1 div.sk-label input.sk-toggleable__control:checked~label.sk-toggleable__label {background-color: #d4ebff;}#sk-container-id-1 input.sk-hidden--visually {border: 0;clip: rect(1px 1px 1px 1px);clip: rect(1px, 1px, 1px, 1px);height: 1px;margin: -1px;overflow: hidden;padding: 0;position: absolute;width: 1px;}#sk-container-id-1 div.sk-estimator {font-family: monospace;background-color: #f0f8ff;border: 1px dotted black;border-radius: 0.25em;box-sizing: border-box;margin-bottom: 0.5em;}#sk-container-id-1 div.sk-estimator:hover {background-color: #d4ebff;}#sk-container-id-1 div.sk-parallel-item::after {content: \"\";width: 100%;border-bottom: 1px solid gray;flex-grow: 1;}#sk-container-id-1 div.sk-label:hover label.sk-toggleable__label {background-color: #d4ebff;}#sk-container-id-1 div.sk-serial::before {content: \"\";position: absolute;border-left: 1px solid gray;box-sizing: border-box;top: 0;bottom: 0;left: 50%;z-index: 0;}#sk-container-id-1 div.sk-serial {display: flex;flex-direction: column;align-items: center;background-color: white;padding-right: 0.2em;padding-left: 0.2em;position: relative;}#sk-container-id-1 div.sk-item {position: relative;z-index: 1;}#sk-container-id-1 div.sk-parallel {display: flex;align-items: stretch;justify-content: center;background-color: white;position: relative;}#sk-container-id-1 div.sk-item::before, #sk-container-id-1 div.sk-parallel-item::before {content: \"\";position: absolute;border-left: 1px solid gray;box-sizing: border-box;top: 0;bottom: 0;left: 50%;z-index: -1;}#sk-container-id-1 div.sk-parallel-item {display: flex;flex-direction: column;z-index: 1;position: relative;background-color: white;}#sk-container-id-1 div.sk-parallel-item:first-child::after {align-self: flex-end;width: 50%;}#sk-container-id-1 div.sk-parallel-item:last-child::after {align-self: flex-start;width: 50%;}#sk-container-id-1 div.sk-parallel-item:only-child::after {width: 0;}#sk-container-id-1 div.sk-dashed-wrapped {border: 1px dashed gray;margin: 0 0.4em 0.5em 0.4em;box-sizing: border-box;padding-bottom: 0.4em;background-color: white;}#sk-container-id-1 div.sk-label label {font-family: monospace;font-weight: bold;display: inline-block;line-height: 1.2em;}#sk-container-id-1 div.sk-label-container {text-align: center;}#sk-container-id-1 div.sk-container {/* jupyter's `normalize.less` sets `[hidden] { display: none; }` but bootstrap.min.css set `[hidden] { display: none !important; }` so we also need the `!important` here to be able to override the default hidden behavior on the sphinx rendered scikit-learn.org. See: https://github.com/scikit-learn/scikit-learn/issues/21755 */display: inline-block !important;position: relative;}#sk-container-id-1 div.sk-text-repr-fallback {display: none;}</style><div id=\"sk-container-id-1\" class=\"sk-top-container\"><div class=\"sk-text-repr-fallback\"><pre>IsolationForest(contamination=0.05, random_state=42)</pre><b>In a Jupyter environment, please rerun this cell to show the HTML representation or trust the notebook. <br />On GitHub, the HTML representation is unable to render, please try loading this page with nbviewer.org.</b></div><div class=\"sk-container\" hidden><div class=\"sk-item\"><div class=\"sk-estimator sk-toggleable\"><input class=\"sk-toggleable__control sk-hidden--visually\" id=\"sk-estimator-id-1\" type=\"checkbox\" checked><label for=\"sk-estimator-id-1\" class=\"sk-toggleable__label sk-toggleable__label-arrow\">IsolationForest</label><div class=\"sk-toggleable__content\"><pre>IsolationForest(contamination=0.05, random_state=42)</pre></div></div></div></div></div>"
            ]
          },
          "metadata": {},
          "execution_count": 7
        }
      ]
    },
    {
      "cell_type": "code",
      "source": [
        "y_train_pred = model.predict(X_train)\n",
        "y_test_pred = model.predict(X_test)"
      ],
      "metadata": {
        "id": "myYAj-4Jf0GK"
      },
      "execution_count": 8,
      "outputs": []
    },
    {
      "cell_type": "code",
      "source": [
        "y_train_pred = np.where(y_train_pred == -1, 1, 0)\n",
        "y_test_pred = np.where(y_test_pred == -1, 1, 0)"
      ],
      "metadata": {
        "id": "dbefoMPxh4qi"
      },
      "execution_count": 9,
      "outputs": []
    },
    {
      "cell_type": "code",
      "source": [
        "print(\"Training set evaluation:\")\n",
        "print(classification_report(y_train, y_train_pred))\n",
        "print(confusion_matrix(y_train, y_train_pred))"
      ],
      "metadata": {
        "colab": {
          "base_uri": "https://localhost:8080/"
        },
        "id": "54ibbnZwh4tx",
        "outputId": "10f340b6-a339-475f-d0b0-23658682acae"
      },
      "execution_count": 10,
      "outputs": [
        {
          "output_type": "stream",
          "name": "stdout",
          "text": [
            "Training set evaluation:\n",
            "              precision    recall  f1-score   support\n",
            "\n",
            "           0       0.95      0.95      0.95      7643\n",
            "           1       0.04      0.04      0.04       357\n",
            "\n",
            "    accuracy                           0.91      8000\n",
            "   macro avg       0.50      0.50      0.50      8000\n",
            "weighted avg       0.91      0.91      0.91      8000\n",
            "\n",
            "[[7258  385]\n",
            " [ 342   15]]\n"
          ]
        }
      ]
    },
    {
      "cell_type": "code",
      "source": [
        "print(\"Test set evaluation:\")\n",
        "print(classification_report(y_test, y_test_pred))\n",
        "print(confusion_matrix(y_test, y_test_pred))"
      ],
      "metadata": {
        "colab": {
          "base_uri": "https://localhost:8080/"
        },
        "id": "NqIZKKmEiAIY",
        "outputId": "0bf7ccde-83b5-4c08-d986-a9468e90b2ec"
      },
      "execution_count": 11,
      "outputs": [
        {
          "output_type": "stream",
          "name": "stdout",
          "text": [
            "Test set evaluation:\n",
            "              precision    recall  f1-score   support\n",
            "\n",
            "           0       0.95      0.95      0.95      1908\n",
            "           1       0.07      0.07      0.07        92\n",
            "\n",
            "    accuracy                           0.91      2000\n",
            "   macro avg       0.51      0.51      0.51      2000\n",
            "weighted avg       0.91      0.91      0.91      2000\n",
            "\n",
            "[[1822   86]\n",
            " [  86    6]]\n"
          ]
        }
      ]
    },
    {
      "cell_type": "code",
      "source": [
        "joblib.dump(model, 'user_behavior_model.pkl')\n",
        "print(\"Model saved to 'user_behavior_model.pkl'\")"
      ],
      "metadata": {
        "colab": {
          "base_uri": "https://localhost:8080/"
        },
        "id": "JDKKNZMQiAL0",
        "outputId": "ff311144-e1a6-4130-cbc3-9cdd3984d5f5"
      },
      "execution_count": 12,
      "outputs": [
        {
          "output_type": "stream",
          "name": "stdout",
          "text": [
            "Model saved to 'user_behavior_model.pkl'\n"
          ]
        }
      ]
    }
  ]
}